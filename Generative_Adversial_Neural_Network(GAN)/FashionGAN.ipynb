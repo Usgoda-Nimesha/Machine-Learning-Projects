{
 "cells": [
  {
   "cell_type": "code",
   "execution_count": 1,
   "id": "f5a139ea-a375-48d5-a3c9-9027252b1fdd",
   "metadata": {},
   "outputs": [
    {
     "name": "stderr",
     "output_type": "stream",
     "text": [
      "2022-09-06 09:27:55.384805: I tensorflow/core/util/util.cc:169] oneDNN custom operations are on. You may see slightly different numerical results due to floating-point round-off errors from different computation orders. To turn them off, set the environment variable `TF_ENABLE_ONEDNN_OPTS=0`.\n"
     ]
    }
   ],
   "source": [
    "import tensorflow as tf\n",
    "gpus = tf.config.experimental.list_physical_devices(\"GPU\")\n",
    "for gpu in gpus:\n",
    "    tf.config.experimental.set_memory_growth(gpu, True)"
   ]
  },
  {
   "cell_type": "code",
   "execution_count": 2,
   "id": "cb10e728-d2b5-452d-895f-2f7d6a6ce9fd",
   "metadata": {},
   "outputs": [],
   "source": [
    "import tensorflow_datasets as tfds\n",
    "from matplotlib import pyplot as plt"
   ]
  },
  {
   "cell_type": "code",
   "execution_count": 3,
   "id": "778b0e0e-124a-484e-87c5-175bdc044e82",
   "metadata": {},
   "outputs": [
    {
     "name": "stderr",
     "output_type": "stream",
     "text": [
      "2022-09-06 09:27:57.570815: I tensorflow/core/platform/cpu_feature_guard.cc:193] This TensorFlow binary is optimized with oneAPI Deep Neural Network Library (oneDNN) to use the following CPU instructions in performance-critical operations:  AVX2 AVX512F AVX512_VNNI FMA\n",
      "To enable them in other operations, rebuild TensorFlow with the appropriate compiler flags.\n"
     ]
    }
   ],
   "source": [
    "ds = tfds.load(\"fashion_mnist\",split=\"train\")"
   ]
  },
  {
   "cell_type": "code",
   "execution_count": 4,
   "id": "b33d0d18-6c32-4043-b005-9d5ce6027bf7",
   "metadata": {},
   "outputs": [
    {
     "name": "stderr",
     "output_type": "stream",
     "text": [
      "2022-09-06 09:27:57.671520: W tensorflow/core/kernels/data/cache_dataset_ops.cc:856] The calling iterator did not fully read the dataset being cached. In order to avoid unexpected truncation of the dataset, the partially cached contents of the dataset  will be discarded. This can happen if you have an input pipeline similar to `dataset.cache().take(k).repeat()`. You should use `dataset.take(k).cache().repeat()` instead.\n"
     ]
    },
    {
     "data": {
      "text/plain": [
       "2"
      ]
     },
     "execution_count": 4,
     "metadata": {},
     "output_type": "execute_result"
    }
   ],
   "source": [
    "ds.as_numpy_iterator().next()[\"label\"]"
   ]
  },
  {
   "cell_type": "markdown",
   "id": "35a81ff8-4c10-427a-bec8-0749c9ecbbfc",
   "metadata": {},
   "source": [
    "# 2. Visualize and Build dataset #"
   ]
  },
  {
   "cell_type": "code",
   "execution_count": 5,
   "id": "007637dc-a839-4719-8aaa-30825d40ec0d",
   "metadata": {},
   "outputs": [],
   "source": [
    "# Do some data transformation\n",
    "import numpy as np"
   ]
  },
  {
   "cell_type": "code",
   "execution_count": 6,
   "id": "89372f7e-298b-4000-8430-894b597d8a85",
   "metadata": {},
   "outputs": [],
   "source": [
    "# Setup connection aka iterator\n",
    "dataiterator = ds.as_numpy_iterator()"
   ]
  },
  {
   "cell_type": "code",
   "execution_count": null,
   "id": "86c863bc-08a3-4e17-9741-cc9d7dadabbd",
   "metadata": {},
   "outputs": [],
   "source": [
    "# Getting data out of the pipeline\n",
    "dataiterator.next()"
   ]
  },
  {
   "cell_type": "code",
   "execution_count": 8,
   "id": "06f06ff7-d560-4c4f-855e-60a0a57e3a12",
   "metadata": {},
   "outputs": [
    {
     "data": {
      "image/png": "[encoded data removed]",
      "text/plain": [
       "<Figure size 2000x2000 with 4 Axes>"
      ]
     },
     "metadata": {},
     "output_type": "display_data"
    }
   ],
   "source": [
    "fig, ax = plt.subplots(ncols=4, figsize=(20,20))\n",
    "for idx in range(4):\n",
    "    sample = dataiterator.next()\n",
    "    ax[idx].imshow(np.squeeze(sample[\"image\"]))\n",
    "    ax[idx].title.set_text(sample[\"label\"])"
   ]
  },
  {
   "cell_type": "code",
   "execution_count": 9,
   "id": "3b165edc-a5ec-4abe-a4e0-29495da392bc",
   "metadata": {},
   "outputs": [],
   "source": [
    "# scale and return images only\n",
    "def scale_images(data):\n",
    "    image = data[\"image\"]\n",
    "    return image / 255"
   ]
  },
  {
   "cell_type": "code",
   "execution_count": 10,
   "id": "45677235-6c35-4650-a2f7-0af5e8ccc215",
   "metadata": {},
   "outputs": [],
   "source": [
    "# reload the dataset\n",
    "ds = tfds.load(\"fashion_mnist\", split=\"train\")\n",
    "# Running the dataset through the scale_images preprocessing step\n",
    "ds = ds.map(scale_images)\n",
    "# cache the dataset for that batch\n",
    "ds = ds.cache()\n",
    "# shuffle it up\n",
    "ds = ds.shuffle(60000)\n",
    "# batch into 128 images per sample\n",
    "ds = ds.batch(128)\n",
    "# Reduces the likelihood of bottlenecking\n",
    "ds = ds.prefetch(64)"
   ]
  },
  {
   "cell_type": "code",
   "execution_count": 11,
   "id": "f858465d-032c-428c-abb7-af7eed50db11",
   "metadata": {},
   "outputs": [
    {
     "data": {
      "text/plain": [
       "(128, 28, 28, 1)"
      ]
     },
     "execution_count": 11,
     "metadata": {},
     "output_type": "execute_result"
    }
   ],
   "source": [
    "ds.as_numpy_iterator().next().shape"
   ]
  },
  {
   "cell_type": "markdown",
   "id": "13114905-03d9-4290-8134-acbd56123d1b",
   "metadata": {},
   "source": [
    "# 3. Build Neural Network #"
   ]
  },
  {
   "cell_type": "markdown",
   "id": "7068c43d-bb24-47e9-8ea1-22c9cd5c9b0e",
   "metadata": {},
   "source": [
    "**3.1 import Modelling Components**"
   ]
  },
  {
   "cell_type": "code",
   "execution_count": 12,
   "id": "a49a5bf9-41e4-4016-a28a-50848266c5de",
   "metadata": {},
   "outputs": [],
   "source": [
    "# Bring in the sequential api for the generator and discriminator\n",
    "from tensorflow.keras.models import Sequential\n",
    "# Bring in the layers for the neural network\n",
    "from tensorflow.keras.layers import Conv2D, Dense, Flatten, Reshape, LeakyReLU, Dropout, UpSampling2D"
   ]
  },
  {
   "cell_type": "markdown",
   "id": "1c8eb7da-1fb3-4185-9119-6781e900858b",
   "metadata": {},
   "source": [
    "**3.2 Build Generator**"
   ]
  },
  {
   "cell_type": "code",
   "execution_count": 13,
   "id": "b43f6a1c-949b-4880-9bc3-3aed03bf5163",
   "metadata": {},
   "outputs": [],
   "source": [
    "def build_generator():\n",
    "    model = Sequential()\n",
    "    # Takes in random values and reshape it to 7x7x128\n",
    "    # Beginings of a generated image\n",
    "    model.add(Dense(7*7*128, input_dim=128))\n",
    "    # Cater for non linearities in our model\n",
    "    model.add(LeakyReLU(0.2))\n",
    "    # Gives out our spacial quality\n",
    "    model.add(Reshape((7,7,128)))\n",
    "    \n",
    "    # Upsampling block 1 (Double the spacial quality 14x14x128)\n",
    "    model.add(UpSampling2D())\n",
    "    model.add(Conv2D(128, 5, padding=\"same\"))\n",
    "    model.add(LeakyReLU(0.2))\n",
    "    \n",
    "    # Upsampling block 2\n",
    "    model.add(UpSampling2D())\n",
    "    model.add(Conv2D(128, 5, padding=\"same\"))\n",
    "    model.add(LeakyReLU(0.2))\n",
    "    \n",
    "    # Convolutional block 1\n",
    "    model.add(Conv2D(128,4,padding=\"same\"))\n",
    "    model.add(LeakyReLU(0.2))\n",
    "    \n",
    "    # Convolutional block 2\n",
    "    model.add(Conv2D(128,4, padding=\"same\"))\n",
    "    model.add(LeakyReLU(0.2))\n",
    "    \n",
    "    # Conv layer to get to one channel\n",
    "    model.add(Conv2D(1,4,padding=\"same\", activation=\"sigmoid\"))\n",
    "    return model"
   ]
  },
  {
   "cell_type": "code",
   "execution_count": 14,
   "id": "a3f8b523-5d2b-49c9-9eb4-fe896f2f52aa",
   "metadata": {},
   "outputs": [
    {
     "name": "stdout",
     "output_type": "stream",
     "text": [
      "Model: \"sequential\"\n",
      "_________________________________________________________________\n",
      " Layer (type)                Output Shape              Param #   \n",
      "=================================================================\n",
      " dense (Dense)               (None, 6272)              809088    \n",
      "                                                                 \n",
      " leaky_re_lu (LeakyReLU)     (None, 6272)              0         \n",
      "                                                                 \n",
      " reshape (Reshape)           (None, 7, 7, 128)         0         \n",
      "                                                                 \n",
      " up_sampling2d (UpSampling2D  (None, 14, 14, 128)      0         \n",
      " )                                                               \n",
      "                                                                 \n",
      " conv2d (Conv2D)             (None, 14, 14, 128)       409728    \n",
      "                                                                 \n",
      " leaky_re_lu_1 (LeakyReLU)   (None, 14, 14, 128)       0         \n",
      "                                                                 \n",
      " up_sampling2d_1 (UpSampling  (None, 28, 28, 128)      0         \n",
      " 2D)                                                             \n",
      "                                                                 \n",
      " conv2d_1 (Conv2D)           (None, 28, 28, 128)       409728    \n",
      "                                                                 \n",
      " leaky_re_lu_2 (LeakyReLU)   (None, 28, 28, 128)       0         \n",
      "                                                                 \n",
      " conv2d_2 (Conv2D)           (None, 28, 28, 128)       262272    \n",
      "                                                                 \n",
      " leaky_re_lu_3 (LeakyReLU)   (None, 28, 28, 128)       0         \n",
      "                                                                 \n",
      " conv2d_3 (Conv2D)           (None, 28, 28, 128)       262272    \n",
      "                                                                 \n",
      " leaky_re_lu_4 (LeakyReLU)   (None, 28, 28, 128)       0         \n",
      "                                                                 \n",
      " conv2d_4 (Conv2D)           (None, 28, 28, 1)         2049      \n",
      "                                                                 \n",
      "=================================================================\n",
      "Total params: 2,155,137\n",
      "Trainable params: 2,155,137\n",
      "Non-trainable params: 0\n",
      "_________________________________________________________________\n"
     ]
    }
   ],
   "source": [
    "build_generator().summary()"
   ]
  },
  {
   "cell_type": "code",
   "execution_count": 15,
   "id": "78b20f71-70b8-4234-80fd-23a150b10853",
   "metadata": {},
   "outputs": [],
   "source": [
    "gen = build_generator()"
   ]
  },
  {
   "cell_type": "code",
   "execution_count": 16,
   "id": "b0c444a2-933d-47cd-b283-4465b65b56a4",
   "metadata": {},
   "outputs": [
    {
     "name": "stdout",
     "output_type": "stream",
     "text": [
      "1/1 [==============================] - 0s 177ms/step\n"
     ]
    }
   ],
   "source": [
    "img = gen.predict(np.random.randn(4,128,1))"
   ]
  },
  {
   "cell_type": "code",
   "execution_count": 17,
   "id": "d7a5c298-c2e0-4dd7-8e76-e972f73c79a6",
   "metadata": {
    "scrolled": true,
    "tags": []
   },
   "outputs": [
    {
     "data": {
      "text/plain": [
       "array([[[[0.49582624],\n",
       "         [0.48896906],\n",
       "         [0.48275632],\n",
       "         ...,\n",
       "         [0.4838494 ],\n",
       "         [0.4901204 ],\n",
       "         [0.49098852]],\n",
       "\n",
       "        [[0.5022052 ],\n",
       "         [0.50225884],\n",
       "         [0.4972838 ],\n",
       "         ...,\n",
       "         [0.49226773],\n",
       "         [0.49521163],\n",
       "         [0.494158  ]],\n",
       "\n",
       "        [[0.49167424],\n",
       "         [0.49626282],\n",
       "         [0.49461415],\n",
       "         ...,\n",
       "         [0.50090295],\n",
       "         [0.4957368 ],\n",
       "         [0.48935747]],\n",
       "\n",
       "        ...,\n",
       "\n",
       "        [[0.49966347],\n",
       "         [0.4981614 ],\n",
       "         [0.5060958 ],\n",
       "         ...,\n",
       "         [0.49938217],\n",
       "         [0.49536875],\n",
       "         [0.49583748]],\n",
       "\n",
       "        [[0.5029569 ],\n",
       "         [0.5094742 ],\n",
       "         [0.5108565 ],\n",
       "         ...,\n",
       "         [0.5040549 ],\n",
       "         [0.49844807],\n",
       "         [0.49820584]],\n",
       "\n",
       "        [[0.50040954],\n",
       "         [0.50177926],\n",
       "         [0.5045988 ],\n",
       "         ...,\n",
       "         [0.5089086 ],\n",
       "         [0.50113076],\n",
       "         [0.50019765]]],\n",
       "\n",
       "\n",
       "       [[[0.491452  ],\n",
       "         [0.49667823],\n",
       "         [0.49744496],\n",
       "         ...,\n",
       "         [0.48863792],\n",
       "         [0.49276382],\n",
       "         [0.49396557]],\n",
       "\n",
       "        [[0.4937928 ],\n",
       "         [0.49367744],\n",
       "         [0.5010458 ],\n",
       "         ...,\n",
       "         [0.4945038 ],\n",
       "         [0.49486974],\n",
       "         [0.4930504 ]],\n",
       "\n",
       "        [[0.48715365],\n",
       "         [0.4838884 ],\n",
       "         [0.49143773],\n",
       "         ...,\n",
       "         [0.4904477 ],\n",
       "         [0.49755043],\n",
       "         [0.49547333]],\n",
       "\n",
       "        ...,\n",
       "\n",
       "        [[0.5051193 ],\n",
       "         [0.50826645],\n",
       "         [0.5090318 ],\n",
       "         ...,\n",
       "         [0.50907034],\n",
       "         [0.50003535],\n",
       "         [0.4996304 ]],\n",
       "\n",
       "        [[0.501525  ],\n",
       "         [0.50520265],\n",
       "         [0.50268835],\n",
       "         ...,\n",
       "         [0.50717294],\n",
       "         [0.50207424],\n",
       "         [0.50107056]],\n",
       "\n",
       "        [[0.50057554],\n",
       "         [0.50426865],\n",
       "         [0.5046175 ],\n",
       "         ...,\n",
       "         [0.5052119 ],\n",
       "         [0.49909902],\n",
       "         [0.49955398]]],\n",
       "\n",
       "\n",
       "       [[[0.49897674],\n",
       "         [0.49583733],\n",
       "         [0.48305565],\n",
       "         ...,\n",
       "         [0.48437777],\n",
       "         [0.4890226 ],\n",
       "         [0.4913646 ]],\n",
       "\n",
       "        [[0.4953666 ],\n",
       "         [0.49004322],\n",
       "         [0.48931196],\n",
       "         ...,\n",
       "         [0.4891    ],\n",
       "         [0.49251917],\n",
       "         [0.49411455]],\n",
       "\n",
       "        [[0.49347848],\n",
       "         [0.4911089 ],\n",
       "         [0.48763576],\n",
       "         ...,\n",
       "         [0.48889646],\n",
       "         [0.48940805],\n",
       "         [0.48912615]],\n",
       "\n",
       "        ...,\n",
       "\n",
       "        [[0.5056818 ],\n",
       "         [0.50035673],\n",
       "         [0.49917874],\n",
       "         ...,\n",
       "         [0.50003177],\n",
       "         [0.49797863],\n",
       "         [0.4996539 ]],\n",
       "\n",
       "        [[0.5031707 ],\n",
       "         [0.4980422 ],\n",
       "         [0.50028694],\n",
       "         ...,\n",
       "         [0.50048035],\n",
       "         [0.50374305],\n",
       "         [0.5014996 ]],\n",
       "\n",
       "        [[0.5042684 ],\n",
       "         [0.4981041 ],\n",
       "         [0.500671  ],\n",
       "         ...,\n",
       "         [0.50319237],\n",
       "         [0.5024263 ],\n",
       "         [0.50270677]]],\n",
       "\n",
       "\n",
       "       [[[0.49711478],\n",
       "         [0.4873569 ],\n",
       "         [0.49075672],\n",
       "         ...,\n",
       "         [0.4919593 ],\n",
       "         [0.49357945],\n",
       "         [0.49527976]],\n",
       "\n",
       "        [[0.494641  ],\n",
       "         [0.49117795],\n",
       "         [0.49150854],\n",
       "         ...,\n",
       "         [0.48984307],\n",
       "         [0.49227527],\n",
       "         [0.49273458]],\n",
       "\n",
       "        [[0.49003312],\n",
       "         [0.48968044],\n",
       "         [0.50015044],\n",
       "         ...,\n",
       "         [0.49446934],\n",
       "         [0.4932134 ],\n",
       "         [0.4960541 ]],\n",
       "\n",
       "        ...,\n",
       "\n",
       "        [[0.50361645],\n",
       "         [0.50166273],\n",
       "         [0.50440556],\n",
       "         ...,\n",
       "         [0.4960013 ],\n",
       "         [0.49584606],\n",
       "         [0.49987018]],\n",
       "\n",
       "        [[0.50474024],\n",
       "         [0.50688237],\n",
       "         [0.5023025 ],\n",
       "         ...,\n",
       "         [0.49984285],\n",
       "         [0.49944222],\n",
       "         [0.5006274 ]],\n",
       "\n",
       "        [[0.5037215 ],\n",
       "         [0.49995178],\n",
       "         [0.4982964 ],\n",
       "         ...,\n",
       "         [0.50040126],\n",
       "         [0.5001654 ],\n",
       "         [0.50045437]]]], dtype=float32)"
      ]
     },
     "execution_count": 17,
     "metadata": {},
     "output_type": "execute_result"
    }
   ],
   "source": [
    "img"
   ]
  },
  {
   "cell_type": "code",
   "execution_count": 18,
   "id": "82fef931-da9c-4a49-95bd-22fc8e587d6e",
   "metadata": {},
   "outputs": [
    {
     "data": {
      "text/plain": [
       "(4, 28, 28, 1)"
      ]
     },
     "execution_count": 18,
     "metadata": {},
     "output_type": "execute_result"
    }
   ],
   "source": [
    "img.shape"
   ]
  },
  {
   "cell_type": "code",
   "execution_count": 19,
   "id": "5e7fa805-457c-4a97-b3f0-de9f471f2960",
   "metadata": {},
   "outputs": [
    {
     "name": "stdout",
     "output_type": "stream",
     "text": [
      "1/1 [==============================] - 0s 50ms/step\n"
     ]
    },
    {
     "data": {
      "image/png": "[encoded data removed]",
      "text/plain": [
       "<Figure size 2000x2000 with 4 Axes>"
      ]
     },
     "metadata": {},
     "output_type": "display_data"
    }
   ],
   "source": [
    "# Generate new fashion\n",
    "img = gen.predict(np.random.randn(4,128,1))\n",
    "# Setup the subplot for formatting\n",
    "fig, ax = plt.subplots(ncols=4, figsize=(20,20))\n",
    "# Loop 4 times and get images\n",
    "for idx,img in enumerate(img):\n",
    "    # Plot the image using specific subplot\n",
    "    ax[idx].imshow(np.squeeze(img))\n",
    "    # Appending the image label as the plot title\n",
    "    ax[idx].title.set_text(idx)"
   ]
  },
  {
   "cell_type": "markdown",
   "id": "f7ef7b08-cb6c-4cc1-a500-b50121ea848f",
   "metadata": {},
   "source": [
    "**3.3 Build Discriminator**"
   ]
  },
  {
   "cell_type": "code",
   "execution_count": 20,
   "id": "d8784d69-70ca-4a0e-8895-e6bca7b95daf",
   "metadata": {},
   "outputs": [],
   "source": [
    "def build_discriminator():\n",
    "    model = Sequential()\n",
    "    \n",
    "    # First conv Block\n",
    "    model.add(Conv2D(32, 5, input_shape=(28,28,1)))\n",
    "    model.add(LeakyReLU(0.2))\n",
    "    model.add(Dropout(0.4))\n",
    "    \n",
    "    # Second conv block\n",
    "    model.add(Conv2D(64, 5))\n",
    "    model.add(LeakyReLU(0.2))\n",
    "    model.add(Dropout(0.4))\n",
    "    \n",
    "    # Third conv block\n",
    "    model.add(Conv2D(128,5))\n",
    "    model.add(LeakyReLU(0.2))\n",
    "    model.add(Dropout(0.4))\n",
    "    \n",
    "    # Fourth Conv Block\n",
    "    model.add(Conv2D(256, 5))\n",
    "    model.add(LeakyReLU(0.2))\n",
    "    model.add(Dropout(0.4))\n",
    "    \n",
    "    # Flatten then pass to Dense layer\n",
    "    model.add(Flatten())\n",
    "    model.add(Dropout(0.4))\n",
    "    model.add(Dense(1, activation=\"sigmoid\"))\n",
    "    \n",
    "    \n",
    "    return model"
   ]
  },
  {
   "cell_type": "code",
   "execution_count": 21,
   "id": "04fc6db1-ca1e-4c8c-a267-c00302cf6750",
   "metadata": {},
   "outputs": [],
   "source": [
    "discriminator = build_discriminator()"
   ]
  },
  {
   "cell_type": "code",
   "execution_count": 22,
   "id": "415c0f1f-45a1-4136-88e0-785ac629ae04",
   "metadata": {},
   "outputs": [
    {
     "name": "stdout",
     "output_type": "stream",
     "text": [
      "Model: \"sequential_2\"\n",
      "_________________________________________________________________\n",
      " Layer (type)                Output Shape              Param #   \n",
      "=================================================================\n",
      " conv2d_10 (Conv2D)          (None, 24, 24, 32)        832       \n",
      "                                                                 \n",
      " leaky_re_lu_10 (LeakyReLU)  (None, 24, 24, 32)        0         \n",
      "                                                                 \n",
      " dropout (Dropout)           (None, 24, 24, 32)        0         \n",
      "                                                                 \n",
      " conv2d_11 (Conv2D)          (None, 20, 20, 64)        51264     \n",
      "                                                                 \n",
      " leaky_re_lu_11 (LeakyReLU)  (None, 20, 20, 64)        0         \n",
      "                                                                 \n",
      " dropout_1 (Dropout)         (None, 20, 20, 64)        0         \n",
      "                                                                 \n",
      " conv2d_12 (Conv2D)          (None, 16, 16, 128)       204928    \n",
      "                                                                 \n",
      " leaky_re_lu_12 (LeakyReLU)  (None, 16, 16, 128)       0         \n",
      "                                                                 \n",
      " dropout_2 (Dropout)         (None, 16, 16, 128)       0         \n",
      "                                                                 \n",
      " conv2d_13 (Conv2D)          (None, 12, 12, 256)       819456    \n",
      "                                                                 \n",
      " leaky_re_lu_13 (LeakyReLU)  (None, 12, 12, 256)       0         \n",
      "                                                                 \n",
      " dropout_3 (Dropout)         (None, 12, 12, 256)       0         \n",
      "                                                                 \n",
      " flatten (Flatten)           (None, 36864)             0         \n",
      "                                                                 \n",
      " dropout_4 (Dropout)         (None, 36864)             0         \n",
      "                                                                 \n",
      " dense_2 (Dense)             (None, 1)                 36865     \n",
      "                                                                 \n",
      "=================================================================\n",
      "Total params: 1,113,345\n",
      "Trainable params: 1,113,345\n",
      "Non-trainable params: 0\n",
      "_________________________________________________________________\n"
     ]
    }
   ],
   "source": [
    "discriminator.summary()"
   ]
  },
  {
   "cell_type": "code",
   "execution_count": 23,
   "id": "75b0701b-669b-418d-b35c-6ad9bdf2f969",
   "metadata": {},
   "outputs": [
    {
     "name": "stdout",
     "output_type": "stream",
     "text": [
      "1/1 [==============================] - 0s 56ms/step\n"
     ]
    }
   ],
   "source": [
    "img = gen.predict(np.random.randn(4,128,1))"
   ]
  },
  {
   "cell_type": "code",
   "execution_count": 24,
   "id": "152ef2d8-5995-40f5-85e5-4f174719fb64",
   "metadata": {},
   "outputs": [
    {
     "name": "stdout",
     "output_type": "stream",
     "text": [
      "1/1 [==============================] - 0s 65ms/step\n"
     ]
    },
    {
     "data": {
      "text/plain": [
       "array([[0.48671198],\n",
       "       [0.4867255 ],\n",
       "       [0.48651266],\n",
       "       [0.4866263 ]], dtype=float32)"
      ]
     },
     "execution_count": 24,
     "metadata": {},
     "output_type": "execute_result"
    }
   ],
   "source": [
    "discriminator.predict(img)"
   ]
  },
  {
   "cell_type": "markdown",
   "id": "b58cc8bc-3453-43da-bc87-adeffa9e17db",
   "metadata": {},
   "source": [
    "# 4. Construct Training Loop #"
   ]
  },
  {
   "cell_type": "markdown",
   "id": "06bdf61d-fc71-49b4-a963-1d78ae303d42",
   "metadata": {},
   "source": [
    "**4.1 Setup Losses and Optimizers**"
   ]
  },
  {
   "cell_type": "code",
   "execution_count": 25,
   "id": "31bc95e5-97c7-4415-989b-28a7a7d928fa",
   "metadata": {},
   "outputs": [],
   "source": [
    "# Adam is going to be the optimizer for both\n",
    "from tensorflow.keras.optimizers import Adam\n",
    "# Binary cross entropy is going to be loss for both\n",
    "from tensorflow.keras.losses import BinaryCrossentropy"
   ]
  },
  {
   "cell_type": "code",
   "execution_count": 26,
   "id": "00761e11-ff9c-4dd4-a50d-76be20d76f9c",
   "metadata": {},
   "outputs": [],
   "source": [
    "g_opt = Adam(learning_rate=0.0001)\n",
    "d_opt = Adam(learning_rate=0.00001)\n",
    "g_loss = BinaryCrossentropy()\n",
    "d_loss = BinaryCrossentropy()"
   ]
  },
  {
   "cell_type": "markdown",
   "id": "c529a32b-377b-4a65-87f8-d864cbd5a07b",
   "metadata": {},
   "source": [
    "**4.2 Build Subclassed model**"
   ]
  },
  {
   "cell_type": "code",
   "execution_count": 27,
   "id": "9f8146a5-a807-4abd-9c94-6778d38c5f31",
   "metadata": {},
   "outputs": [],
   "source": [
    "# Importing the base model class to subclass our training step\n",
    "from tensorflow.keras.models import Model"
   ]
  },
  {
   "cell_type": "code",
   "execution_count": 28,
   "id": "895c2630-67c2-4e33-bf08-028f1b0fa67e",
   "metadata": {},
   "outputs": [],
   "source": [
    "class FashionGAN(Model):\n",
    "    def __init__(self, generator, discriminator, *args, **kwargs):\n",
    "        # Pass through args and kwargs to base class\n",
    "        super().__init__(*args, **kwargs)\n",
    "        \n",
    "        # Create attributes for gen and disc\n",
    "        self.generator = generator\n",
    "        self.discriminator = discriminator\n",
    "        \n",
    "        \n",
    "    def compile(self,g_opt, d_opt, g_loss, d_loss, *args, **kwargs):\n",
    "        # Compile with base class\n",
    "        super().compile(*args, **kwargs)\n",
    "        \n",
    "        # Create attributes for losses and optimizers\n",
    "        self.g_opt = g_opt\n",
    "        self.d_opt = d_opt\n",
    "        self.g_loss = g_loss\n",
    "        self.d_loss = d_loss\n",
    "        \n",
    "    def train_step(self, batch):\n",
    "        # Get the data\n",
    "        real_images = batch\n",
    "        fake_images = self.generator(tf.random.normal((6,128,1)), training=False)\n",
    "        \n",
    "        # Train the discriminator\n",
    "        # Start calculating gradients or monitoring each one of the functions\n",
    "        # tf.GradientTape() function allows us to calculate all of the operations\n",
    "        #that are happening by using our deep neural network\n",
    "        with tf.GradientTape() as d_tape:\n",
    "            # Pass the real and fake images to the discriminator\n",
    "            # Training is set to True to activate Dropout layers\n",
    "            # If Training is set to false Dropout layers will not activate\n",
    "            yhat_real = self.discriminator(real_images, training=True)\n",
    "            yhat_fake = self.discriminator(fake_images, training=True)\n",
    "            yhat_realfake = tf.concat([yhat_real, yhat_fake], axis=0)\n",
    "            \n",
    "            # Create labels for real and fake images\n",
    "            y_realfake = tf.concat([tf.zeros_like(yhat_real),tf.ones_like(yhat_fake)],axis=0)\n",
    "            \n",
    "            # Add some noise to the True outputs\n",
    "            noise_real = 0.15*tf.random.uniform(tf.shape(yhat_real))\n",
    "            noise_fake = -0.15*tf.random.uniform(tf.shape(yhat_fake))\n",
    "            y_realfake += tf.concat([noise_real, noise_fake], axis=0)\n",
    "            \n",
    "            # Calculate the loss -BINARYCROSSENTROPY\n",
    "            total_d_loss = self.d_loss(y_realfake, yhat_realfake)\n",
    "            \n",
    "            \n",
    "        # Apply backpropagation - nn Learn\n",
    "        # Calculate Gradient with respect to the loss for each one of our trainable variables\n",
    "        dgrad = d_tape.gradient(total_d_loss, self.discriminator.trainable_variables)\n",
    "        # Apply gradient using Back Propagation to the respective trainable variables\n",
    "        self.d_opt.apply_gradients(zip(dgrad, self.discriminator.trainable_variables))\n",
    "        \n",
    "        # Train the generator\n",
    "        with tf.GradientTape() as g_tape:\n",
    "            # Generate some new images\n",
    "            gen_images = self.generator(tf.random.normal((128,128,1)), training=True)\n",
    "            \n",
    "            # Create the predicted labels\n",
    "            predicted_labels = self.discriminator(gen_images, training=False)\n",
    "            \n",
    "            # Calculate loss - trick to training to fake out the discriminator\n",
    "            # real values, predicted values\n",
    "            total_g_loss = self.g_loss(tf.zeros_like(predicted_labels), predicted_labels)\n",
    "        \n",
    "        # Apply backprop\n",
    "        ggrad = g_tape.gradient(total_g_loss, self.generator.trainable_variables)\n",
    "        self.g_opt.apply_gradients(zip(ggrad, self.generator.trainable_variables))\n",
    "        \n",
    "        return {\"d_loss\" : total_d_loss, \"g_loss\" : total_g_loss}\n",
    "        "
   ]
  },
  {
   "cell_type": "code",
   "execution_count": 29,
   "id": "31b3ec15-02f3-44a8-9f96-248a3cbb1c0b",
   "metadata": {},
   "outputs": [],
   "source": [
    "# Create an instance of subclassed model\n",
    "generator = build_generator()\n",
    "fashgan = FashionGAN(generator, discriminator)"
   ]
  },
  {
   "cell_type": "code",
   "execution_count": 30,
   "id": "f38cc28b-d65c-4f55-8367-fc54cb57c30a",
   "metadata": {},
   "outputs": [],
   "source": [
    "# Compile the model\n",
    "fashgan.compile(g_opt, d_opt, g_loss, d_loss)"
   ]
  },
  {
   "cell_type": "markdown",
   "id": "e4f6e367-da27-4497-996b-26c98539e4a7",
   "metadata": {},
   "source": [
    "**4.3 Build callback**"
   ]
  },
  {
   "cell_type": "code",
   "execution_count": 31,
   "id": "ab0acb8a-0095-4962-a1ae-2d646b8e9f65",
   "metadata": {},
   "outputs": [],
   "source": [
    "import os\n",
    "from tensorflow.keras.preprocessing.image import array_to_img\n",
    "from tensorflow.keras.callbacks import Callback"
   ]
  },
  {
   "cell_type": "code",
   "execution_count": 32,
   "id": "c41ec280-28f6-4e6c-9cc0-e1c96e83565f",
   "metadata": {},
   "outputs": [],
   "source": [
    "class ModelMonitor(Callback):\n",
    "    def __init__(self, num_img=3, latent_dim=128):\n",
    "        self.num_img = num_img\n",
    "        self.latent_dim = latent_dim\n",
    "        \n",
    "        self.times = []\n",
    "        # use this value as reference to calculate cummulative time taken\n",
    "        #self.timetaken = time.clock()\n",
    "        \n",
    "    def on_epoch_end(self, epoch, logs=None):\n",
    "        random_latent_vectors = tf.random.uniform((self.num_img, self.latent_dim,1))\n",
    "        generated_images = self.model.generator(random_latent_vectors)\n",
    "        generated_images *=255\n",
    "        generated_images.numpy()\n",
    "        for i in range(self.num_img):\n",
    "            img = array_to_img(generated_images[i])\n",
    "            img.save(os.path.join(\"images\" ,f\"generated_img_{epoch}_{i}.png\"))"
   ]
  },
  {
   "cell_type": "markdown",
   "id": "2e1cfbae-2856-416e-9c2a-1b697fec820e",
   "metadata": {},
   "source": [
    "# Train"
   ]
  },
  {
   "cell_type": "code",
   "execution_count": 33,
   "id": "b502a62e-84cc-487d-8ffe-3324423afe26",
   "metadata": {},
   "outputs": [],
   "source": [
    "#hist = fashgan.fit(ds, epochs=2, callbacks=[ModelMonitor()])"
   ]
  },
  {
   "cell_type": "code",
   "execution_count": 35,
   "id": "b69e9409-c092-4441-8e25-afcf07d2ec41",
   "metadata": {},
   "outputs": [
    {
     "ename": "ValueError",
     "evalue": "axes don't match array",
     "output_type": "error",
     "traceback": [
      "\u001b[0;31m---------------------------------------------------------------------------\u001b[0m",
      "\u001b[0;31mValueError\u001b[0m                                Traceback (most recent call last)",
      "Input \u001b[0;32mIn [35]\u001b[0m, in \u001b[0;36m<cell line: 1>\u001b[0;34m()\u001b[0m\n\u001b[0;32m----> 1\u001b[0m \u001b[43mgenerator\u001b[49m\u001b[38;5;241;43m.\u001b[39;49m\u001b[43mload_weights\u001b[49m\u001b[43m(\u001b[49m\u001b[38;5;124;43m\"\u001b[39;49m\u001b[38;5;124;43mgeneratormodel.h5\u001b[39;49m\u001b[38;5;124;43m\"\u001b[39;49m\u001b[43m)\u001b[49m\n",
      "File \u001b[0;32m~/Desktop/PYTHON_ENV/aiproenv/lib/python3.8/site-packages/keras/utils/traceback_utils.py:67\u001b[0m, in \u001b[0;36mfilter_traceback.<locals>.error_handler\u001b[0;34m(*args, **kwargs)\u001b[0m\n\u001b[1;32m     65\u001b[0m \u001b[38;5;28;01mexcept\u001b[39;00m \u001b[38;5;167;01mException\u001b[39;00m \u001b[38;5;28;01mas\u001b[39;00m e:  \u001b[38;5;66;03m# pylint: disable=broad-except\u001b[39;00m\n\u001b[1;32m     66\u001b[0m   filtered_tb \u001b[38;5;241m=\u001b[39m _process_traceback_frames(e\u001b[38;5;241m.\u001b[39m__traceback__)\n\u001b[0;32m---> 67\u001b[0m   \u001b[38;5;28;01mraise\u001b[39;00m e\u001b[38;5;241m.\u001b[39mwith_traceback(filtered_tb) \u001b[38;5;28;01mfrom\u001b[39;00m \u001b[38;5;28mNone\u001b[39m\n\u001b[1;32m     68\u001b[0m \u001b[38;5;28;01mfinally\u001b[39;00m:\n\u001b[1;32m     69\u001b[0m   \u001b[38;5;28;01mdel\u001b[39;00m filtered_tb\n",
      "File \u001b[0;32m<__array_function__ internals>:180\u001b[0m, in \u001b[0;36mtranspose\u001b[0;34m(*args, **kwargs)\u001b[0m\n",
      "File \u001b[0;32m~/Desktop/PYTHON_ENV/aiproenv/lib/python3.8/site-packages/numpy/core/fromnumeric.py:660\u001b[0m, in \u001b[0;36mtranspose\u001b[0;34m(a, axes)\u001b[0m\n\u001b[1;32m    601\u001b[0m \u001b[38;5;129m@array_function_dispatch\u001b[39m(_transpose_dispatcher)\n\u001b[1;32m    602\u001b[0m \u001b[38;5;28;01mdef\u001b[39;00m \u001b[38;5;21mtranspose\u001b[39m(a, axes\u001b[38;5;241m=\u001b[39m\u001b[38;5;28;01mNone\u001b[39;00m):\n\u001b[1;32m    603\u001b[0m     \u001b[38;5;124;03m\"\"\"\u001b[39;00m\n\u001b[1;32m    604\u001b[0m \u001b[38;5;124;03m    Reverse or permute the axes of an array; returns the modified array.\u001b[39;00m\n\u001b[1;32m    605\u001b[0m \n\u001b[0;32m   (...)\u001b[0m\n\u001b[1;32m    658\u001b[0m \n\u001b[1;32m    659\u001b[0m \u001b[38;5;124;03m    \"\"\"\u001b[39;00m\n\u001b[0;32m--> 660\u001b[0m     \u001b[38;5;28;01mreturn\u001b[39;00m \u001b[43m_wrapfunc\u001b[49m\u001b[43m(\u001b[49m\u001b[43ma\u001b[49m\u001b[43m,\u001b[49m\u001b[43m \u001b[49m\u001b[38;5;124;43m'\u001b[39;49m\u001b[38;5;124;43mtranspose\u001b[39;49m\u001b[38;5;124;43m'\u001b[39;49m\u001b[43m,\u001b[49m\u001b[43m \u001b[49m\u001b[43maxes\u001b[49m\u001b[43m)\u001b[49m\n",
      "File \u001b[0;32m~/Desktop/PYTHON_ENV/aiproenv/lib/python3.8/site-packages/numpy/core/fromnumeric.py:57\u001b[0m, in \u001b[0;36m_wrapfunc\u001b[0;34m(obj, method, *args, **kwds)\u001b[0m\n\u001b[1;32m     54\u001b[0m     \u001b[38;5;28;01mreturn\u001b[39;00m _wrapit(obj, method, \u001b[38;5;241m*\u001b[39margs, \u001b[38;5;241m*\u001b[39m\u001b[38;5;241m*\u001b[39mkwds)\n\u001b[1;32m     56\u001b[0m \u001b[38;5;28;01mtry\u001b[39;00m:\n\u001b[0;32m---> 57\u001b[0m     \u001b[38;5;28;01mreturn\u001b[39;00m bound(\u001b[38;5;241m*\u001b[39margs, \u001b[38;5;241m*\u001b[39m\u001b[38;5;241m*\u001b[39mkwds)\n\u001b[1;32m     58\u001b[0m \u001b[38;5;28;01mexcept\u001b[39;00m \u001b[38;5;167;01mTypeError\u001b[39;00m:\n\u001b[1;32m     59\u001b[0m     \u001b[38;5;66;03m# A TypeError occurs if the object does have such a method in its\u001b[39;00m\n\u001b[1;32m     60\u001b[0m     \u001b[38;5;66;03m# class, but its signature is not identical to that of NumPy's. This\u001b[39;00m\n\u001b[0;32m   (...)\u001b[0m\n\u001b[1;32m     64\u001b[0m     \u001b[38;5;66;03m# Call _wrapit from within the except clause to ensure a potential\u001b[39;00m\n\u001b[1;32m     65\u001b[0m     \u001b[38;5;66;03m# exception has a traceback chain.\u001b[39;00m\n\u001b[1;32m     66\u001b[0m     \u001b[38;5;28;01mreturn\u001b[39;00m _wrapit(obj, method, \u001b[38;5;241m*\u001b[39margs, \u001b[38;5;241m*\u001b[39m\u001b[38;5;241m*\u001b[39mkwds)\n",
      "\u001b[0;31mValueError\u001b[0m: axes don't match array"
     ]
    }
   ],
   "source": [
    "generator.load_weights(\"generatormodel.h5\")"
   ]
  },
  {
   "cell_type": "code",
   "execution_count": null,
   "id": "61ab60a6-e565-4598-a4d0-90bdc720e53b",
   "metadata": {},
   "outputs": [],
   "source": []
  }
 ],
 "metadata": {
  "kernelspec": {
   "display_name": "aiproenv",
   "language": "python",
   "name": "aiproenv"
  },
  "language_info": {
   "codemirror_mode": {
    "name": "ipython",
    "version": 3
   },
   "file_extension": ".py",
   "mimetype": "text/x-python",
   "name": "python",
   "nbconvert_exporter": "python",
   "pygments_lexer": "ipython3",
   "version": "3.8.10"
  }
 },
 "nbformat": 4,
 "nbformat_minor": 5
}
